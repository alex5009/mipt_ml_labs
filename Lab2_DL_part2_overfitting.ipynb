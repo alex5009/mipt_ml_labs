{
  "cells": [
    {
      "cell_type": "markdown",
      "metadata": {
        "id": "NFmOh482SyEF"
      },
      "source": [
        "## Lab 2\n",
        "### Part 2: Dealing with overfitting"
      ]
    },
    {
      "cell_type": "markdown",
      "metadata": {
        "id": "AjzAuO3oSvsI"
      },
      "source": [
        "Today we work with [Fashion-MNIST dataset](https://github.com/zalandoresearch/fashion-mnist) (*hint: it is available in `torchvision`*).\n",
        "\n",
        "Your goal for today:\n",
        "1. Train a FC (fully-connected) network that achieves >= 0.885 test accuracy.\n",
        "2. Cause considerable overfitting by modifying the network (e.g. increasing the number of network parameters and/or layers) and demonstrate in in the appropriate way (e.g. plot loss and accurasy on train and validation set w.r.t. network complexity).\n",
        "3. Try to deal with overfitting (at least partially) by using regularization techniques (Dropout/Batchnorm/...) and demonstrate the results.\n",
        "\n",
        "__Please, write a small report describing your ideas, tries and achieved results in the end of this file.__\n",
        "\n",
        "*Note*: Tasks 2 and 3 are interrelated, in task 3 your goal is to make the network from task 2 less prone to overfitting. Task 1 is independent from 2 and 3.\n",
        "\n",
        "*Note 2*: We recomment to use Google Colab or other machine with GPU acceleration."
      ]
    },
    {
      "cell_type": "code",
      "execution_count": 1,
      "metadata": {
        "id": "_KBld6VOSwhW"
      },
      "outputs": [],
      "source": [
        "import torch\n",
        "import torch.nn as nn\n",
        "import torchvision\n",
        "import torchvision.transforms as transforms\n",
        "import torchsummary\n",
        "from IPython.display import clear_output\n",
        "from matplotlib import pyplot as plt\n",
        "from matplotlib.pyplot import figure\n",
        "import numpy as np\n",
        "import os\n",
        "\n",
        "\n",
        "device = 'cuda:0' if torch.cuda.is_available() else 'cpu'"
      ]
    },
    {
      "cell_type": "code",
      "execution_count": 2,
      "metadata": {
        "colab": {
          "base_uri": "https://localhost:8080/"
        },
        "id": "EdLOG0XqS_g5",
        "outputId": "280b533b-ab34-4b66-a271-6b0036c064ac"
      },
      "outputs": [
        {
          "output_type": "stream",
          "name": "stdout",
          "text": [
            "Directory fmnist already exists!\n"
          ]
        }
      ],
      "source": [
        "# Technical function\n",
        "def mkdir(path):\n",
        "    if not os.path.exists(root_path):\n",
        "        os.mkdir(root_path)\n",
        "        print('Directory', path, 'is created!')\n",
        "    else:\n",
        "        print('Directory', path, 'already exists!')\n",
        "        \n",
        "root_path = 'fmnist'\n",
        "mkdir(root_path)"
      ]
    },
    {
      "cell_type": "code",
      "execution_count": 3,
      "metadata": {
        "id": "qt6LE7XaTDT9"
      },
      "outputs": [],
      "source": [
        "download = True\n",
        "train_transform = transforms.ToTensor()\n",
        "test_transform = transforms.ToTensor()\n",
        "transforms.Compose((transforms.ToTensor()))\n",
        "\n",
        "\n",
        "fmnist_dataset_train = torchvision.datasets.FashionMNIST(root_path, \n",
        "                                                        train=True, \n",
        "                                                        transform=train_transform,\n",
        "                                                        target_transform=None,\n",
        "                                                        download=download)\n",
        "fmnist_dataset_test = torchvision.datasets.FashionMNIST(root_path, \n",
        "                                                       train=False, \n",
        "                                                       transform=test_transform,\n",
        "                                                       target_transform=None,\n",
        "                                                       download=download)"
      ]
    },
    {
      "cell_type": "code",
      "execution_count": 4,
      "metadata": {
        "id": "71YP0SPwTIxD"
      },
      "outputs": [],
      "source": [
        "train_loader = torch.utils.data.DataLoader(fmnist_dataset_train, \n",
        "                                           batch_size=128,\n",
        "                                           shuffle=True,\n",
        "                                           num_workers=2)\n",
        "test_loader = torch.utils.data.DataLoader(fmnist_dataset_test,\n",
        "                                          batch_size=256,\n",
        "                                          shuffle=False,\n",
        "                                          num_workers=2)"
      ]
    },
    {
      "cell_type": "code",
      "execution_count": 5,
      "metadata": {
        "colab": {
          "base_uri": "https://localhost:8080/"
        },
        "id": "v_YFmF7NTWrQ",
        "outputId": "50208b61-bf54-4a32-bb6a-16f18c419213"
      },
      "outputs": [
        {
          "output_type": "execute_result",
          "data": {
            "text/plain": [
              "10000"
            ]
          },
          "metadata": {},
          "execution_count": 5
        }
      ],
      "source": [
        "len(fmnist_dataset_test)"
      ]
    },
    {
      "cell_type": "code",
      "execution_count": 6,
      "metadata": {
        "colab": {
          "base_uri": "https://localhost:8080/"
        },
        "id": "aHca15bOTY4B",
        "outputId": "0690ddce-156c-46e9-e91b-78b8ad57a8ca"
      },
      "outputs": [
        {
          "output_type": "stream",
          "name": "stdout",
          "text": [
            "torch.Size([128, 1, 28, 28])\n",
            "torch.Size([128])\n",
            "128\n"
          ]
        }
      ],
      "source": [
        "for img, label in train_loader:\n",
        "    print(img.shape)\n",
        "#     print(img)\n",
        "    print(label.shape)\n",
        "    print(label.size(0))\n",
        "    break"
      ]
    },
    {
      "cell_type": "code",
      "source": [],
      "metadata": {
        "id": "V7jbQwPMDv2X"
      },
      "execution_count": 6,
      "outputs": []
    },
    {
      "cell_type": "markdown",
      "metadata": {
        "id": "b6OOOffHTfX5"
      },
      "source": [
        "### Task 1\n",
        "Train a network that achieves $\\geq 0.885$ test accuracy. It's fine to use only Linear (`nn.Linear`) layers and activations/dropout/batchnorm. Convolutional layers might be a great use, but we will meet them a bit later."
      ]
    },
    {
      "cell_type": "code",
      "execution_count": 7,
      "metadata": {
        "id": "ftpkTjxlTcFx"
      },
      "outputs": [],
      "source": [
        "class TinyNeuralNetwork(nn.Module):\n",
        "    def __init__(self, input_shape=28*28, num_classes=10, input_channels=1):\n",
        "        super(self.__class__, self).__init__()\n",
        "        self.model = nn.Sequential(\n",
        "            nn.Flatten(), # This layer converts image into a vector to use Linear layers afterwards\n",
        "            # Your network structure comes here\n",
        "            nn.Linear(input_shape,512),\n",
        "            nn.Tanh(),\n",
        "            nn.Dropout(0.3),\n",
        "            nn.Linear(512, 256),\n",
        "            nn.ReLU(),\n",
        "            nn.Dropout(0.3),\n",
        "            nn.BatchNorm1d(256),\n",
        "            nn.Linear(256, 128),\n",
        "            nn.ReLU(),\n",
        "            nn.Dropout(0.3),\n",
        "            nn.Linear(128, 10),\n",
        "            nn.ReLU()\n",
        "        )\n",
        "        \n",
        "    def forward(self, inp):       \n",
        "        out = self.model(inp)\n",
        "        return out"
      ]
    },
    {
      "cell_type": "code",
      "execution_count": 8,
      "metadata": {
        "colab": {
          "base_uri": "https://localhost:8080/"
        },
        "id": "lcW-_7634wR4",
        "outputId": "a0e2c88c-6975-4c1c-c5f6-c397dd2d6159"
      },
      "outputs": [
        {
          "output_type": "stream",
          "name": "stdout",
          "text": [
            "----------------------------------------------------------------\n",
            "        Layer (type)               Output Shape         Param #\n",
            "================================================================\n",
            "           Flatten-1                  [-1, 784]               0\n",
            "            Linear-2                  [-1, 512]         401,920\n",
            "              Tanh-3                  [-1, 512]               0\n",
            "           Dropout-4                  [-1, 512]               0\n",
            "            Linear-5                  [-1, 256]         131,328\n",
            "              ReLU-6                  [-1, 256]               0\n",
            "           Dropout-7                  [-1, 256]               0\n",
            "       BatchNorm1d-8                  [-1, 256]             512\n",
            "            Linear-9                  [-1, 128]          32,896\n",
            "             ReLU-10                  [-1, 128]               0\n",
            "          Dropout-11                  [-1, 128]               0\n",
            "           Linear-12                   [-1, 10]           1,290\n",
            "             ReLU-13                   [-1, 10]               0\n",
            "================================================================\n",
            "Total params: 567,946\n",
            "Trainable params: 567,946\n",
            "Non-trainable params: 0\n",
            "----------------------------------------------------------------\n",
            "Input size (MB): 0.00\n",
            "Forward/backward pass size (MB): 0.03\n",
            "Params size (MB): 2.17\n",
            "Estimated Total Size (MB): 2.20\n",
            "----------------------------------------------------------------\n"
          ]
        }
      ],
      "source": [
        "torchsummary.summary(TinyNeuralNetwork().to(device), (28*28,))"
      ]
    },
    {
      "cell_type": "markdown",
      "metadata": {
        "id": "544PGKEnjPr5"
      },
      "source": [
        "Your experiments come here:"
      ]
    },
    {
      "cell_type": "code",
      "source": [
        "def train_model(model, train_loader, val_loader, loss_fn, opt, device, n_epochs: int):\n",
        "    train_loss = []\n",
        "    val_loss = []\n",
        "    val_accuracy = []\n",
        "    \n",
        "    for epoch in range(n_epochs):\n",
        "        ep_train_loss = []\n",
        "        ep_val_loss = []\n",
        "        ep_val_accuracy = []\n",
        "        start_time = time.time()\n",
        "\n",
        "        model.train(True) # enable dropout / batch_norm training behavior\n",
        "        for X_batch, y_batch in train_loader:\n",
        "            X_batch.to(device), y_batch.to(device)\n",
        "            y_pred = model(X_batch.cuda()).to(device)\n",
        "            # move data to target device\n",
        "            ### YOUR CODE HERE\n",
        "            loss = loss_fn(y_pred, y_batch.cuda())\n",
        "            loss.backward()\n",
        "            opt.step()\n",
        "            opt.zero_grad()\n",
        "            # train on batch: compute loss, calc grads, perform optimizer step and zero the grads\n",
        "            ### YOUR CODE HERE\n",
        "            ep_train_loss.append(loss.item())\n",
        "\n",
        "        model.train(False) # disable dropout / use averages for batch_norm\n",
        "        with torch.no_grad():\n",
        "            for X_batch, y_batch in val_loader:\n",
        "                # move data to target device\n",
        "                ### YOUR CODE HERE\n",
        "                X_batch.to(device), y_batch.to(device)\n",
        "                y_pred = model(X_batch.cuda()).to(device)\n",
        "                # compute predictions\n",
        "                ### YOUR CODE HERE\n",
        "                loss = loss_fn(y_pred, y_batch.cuda())\n",
        "                ep_val_loss.append(loss.cpu())\n",
        "                accuracy = torch.sum(torch.argmax(y_pred, dim=1) == y_batch.cuda()) / len(y_batch)\n",
        "                # y_pred = ### YOUR CODE HERE\n",
        "                ep_val_accuracy.append(accuracy.cpu())\n",
        "\n",
        "        # print the results for this epoch:\n",
        "        print(f'Epoch {epoch + 1} of {n_epochs} took {time.time() - start_time:.3f}s')\n",
        "\n",
        "        train_loss.append(np.mean(ep_train_loss))\n",
        "        val_loss.append(np.mean(ep_val_loss))\n",
        "        val_accuracy.append(np.mean(ep_val_accuracy))\n",
        "        \n",
        "        print(f\"\\t  training loss: {train_loss[-1]:.6f}\")\n",
        "        print(f\"\\tvalidation loss: {val_loss[-1]:.6f}\")\n",
        "        print(f\"\\tvalidation accuracy: {val_accuracy[-1]:.3f}\")\n",
        "\n",
        "    return train_loss, val_loss, val_accuracy"
      ],
      "metadata": {
        "id": "l0aVlgOY-mdp"
      },
      "execution_count": 9,
      "outputs": []
    },
    {
      "cell_type": "code",
      "execution_count": 10,
      "metadata": {
        "colab": {
          "base_uri": "https://localhost:8080/"
        },
        "id": "i3POFj90Ti-6",
        "outputId": "b6d9fe47-8523-4c75-d634-7bf609f866e4"
      },
      "outputs": [
        {
          "output_type": "stream",
          "name": "stdout",
          "text": [
            "Epoch 1 of 10 took 12.888s\n",
            "\t  training loss: 0.677202\n",
            "\tvalidation loss: 0.438097\n",
            "\tvalidation accuracy: 0.844\n",
            "Epoch 2 of 10 took 8.508s\n",
            "\t  training loss: 0.446862\n",
            "\tvalidation loss: 0.423005\n",
            "\tvalidation accuracy: 0.844\n",
            "Epoch 3 of 10 took 8.401s\n",
            "\t  training loss: 0.408928\n",
            "\tvalidation loss: 0.378496\n",
            "\tvalidation accuracy: 0.863\n",
            "Epoch 4 of 10 took 8.479s\n",
            "\t  training loss: 0.386396\n",
            "\tvalidation loss: 0.375971\n",
            "\tvalidation accuracy: 0.862\n",
            "Epoch 5 of 10 took 8.496s\n",
            "\t  training loss: 0.371126\n",
            "\tvalidation loss: 0.360072\n",
            "\tvalidation accuracy: 0.869\n",
            "Epoch 6 of 10 took 8.577s\n",
            "\t  training loss: 0.357456\n",
            "\tvalidation loss: 0.350350\n",
            "\tvalidation accuracy: 0.874\n",
            "Epoch 7 of 10 took 8.514s\n",
            "\t  training loss: 0.349960\n",
            "\tvalidation loss: 0.345161\n",
            "\tvalidation accuracy: 0.875\n",
            "Epoch 8 of 10 took 8.469s\n",
            "\t  training loss: 0.340681\n",
            "\tvalidation loss: 0.351179\n",
            "\tvalidation accuracy: 0.872\n",
            "Epoch 9 of 10 took 8.574s\n",
            "\t  training loss: 0.331351\n",
            "\tvalidation loss: 0.333386\n",
            "\tvalidation accuracy: 0.879\n",
            "Epoch 10 of 10 took 9.141s\n",
            "\t  training loss: 0.324600\n",
            "\tvalidation loss: 0.355063\n",
            "\tvalidation accuracy: 0.872\n"
          ]
        }
      ],
      "source": [
        "from torch import optim\n",
        "from torch.nn import CrossEntropyLoss\n",
        "import time\n",
        "\n",
        "model = TinyNeuralNetwork().to(device, dtype=torch.float32)\n",
        "opt = optim.Adam(model.parameters(), lr=3e-4)\n",
        "loss_func = nn.CrossEntropyLoss()\n",
        "\n",
        "# Your experiments, training and validation loops here\n",
        "\n",
        "train_loss, val_loss, val_accuracy = train_model(model, train_loader, test_loader, loss_func, opt, device, 10)"
      ]
    },
    {
      "cell_type": "code",
      "source": [
        "def plot_train_process(train_loss, val_loss, val_accuracy):\n",
        "    fig, axes = plt.subplots(1, 2, figsize=(15, 5))\n",
        "\n",
        "    axes[0].set_title('Loss')\n",
        "    axes[0].plot(train_loss, label='train')\n",
        "    axes[0].plot(val_loss, label='validation')\n",
        "    axes[0].legend()\n",
        "\n",
        "    axes[1].set_title('Validation accuracy')\n",
        "    axes[1].plot(val_accuracy)\n",
        "\n",
        "plot_train_process(train_loss, val_loss, val_accuracy)"
      ],
      "metadata": {
        "colab": {
          "base_uri": "https://localhost:8080/",
          "height": 336
        },
        "id": "hQwSWniTKaYI",
        "outputId": "82d5831c-1e06-4f15-b8c4-e712134c002d"
      },
      "execution_count": 11,
      "outputs": [
        {
          "output_type": "display_data",
          "data": {
            "text/plain": [
              "<Figure size 1080x360 with 2 Axes>"
            ],
            "image/png": "[encoded data removed]"
          },
          "metadata": {
            "needs_background": "light"
          }
        }
      ]
    },
    {
      "cell_type": "markdown",
      "source": [
        "Ошибка модели на трейне и валидации практически одинаковы"
      ],
      "metadata": {
        "id": "0pGgutOMS0WI"
      }
    },
    {
      "cell_type": "markdown",
      "metadata": {
        "id": "L7ISqkjmCPB1"
      },
      "source": [
        "### Task 2: Overfit it.\n",
        "Build a network that will overfit to this dataset. Demonstrate the overfitting in the appropriate way (e.g. plot loss and accurasy on train and test set w.r.t. network complexity).\n",
        "\n",
        "*Note:* you also might decrease the size of `train` dataset to enforce the overfitting and speed up the computations."
      ]
    },
    {
      "cell_type": "code",
      "execution_count": 12,
      "metadata": {
        "id": "H12uAWiGBwJx"
      },
      "outputs": [],
      "source": [
        "class OverfittingNeuralNetwork(nn.Module):\n",
        "    def __init__(self, input_shape=28*28, num_classes=10, input_channels=1):\n",
        "        super(self.__class__, self).__init__()\n",
        "        self.model = nn.Sequential(\n",
        "            nn.Flatten(), # This layer converts image into a vector to use Linear layers afterwards\n",
        "            # Your network structure comes here\n",
        "            nn.Linear(input_shape, 512),\n",
        "            nn.Sigmoid(),\n",
        "            nn.Linear(512, 128),\n",
        "            nn.Tanh(),\n",
        "            nn.Linear(128, num_classes)\n",
        "        )\n",
        "        \n",
        "    def forward(self, inp):       \n",
        "        out = self.model(inp)\n",
        "        return out"
      ]
    },
    {
      "cell_type": "code",
      "execution_count": 13,
      "metadata": {
        "colab": {
          "base_uri": "https://localhost:8080/"
        },
        "id": "JgXAKCpvCwqH",
        "outputId": "3353ad9b-3a66-4294-942a-5a2fcde1288e"
      },
      "outputs": [
        {
          "output_type": "stream",
          "name": "stdout",
          "text": [
            "----------------------------------------------------------------\n",
            "        Layer (type)               Output Shape         Param #\n",
            "================================================================\n",
            "           Flatten-1                  [-1, 784]               0\n",
            "            Linear-2                  [-1, 512]         401,920\n",
            "           Sigmoid-3                  [-1, 512]               0\n",
            "            Linear-4                  [-1, 128]          65,664\n",
            "              Tanh-5                  [-1, 128]               0\n",
            "            Linear-6                   [-1, 10]           1,290\n",
            "================================================================\n",
            "Total params: 468,874\n",
            "Trainable params: 468,874\n",
            "Non-trainable params: 0\n",
            "----------------------------------------------------------------\n",
            "Input size (MB): 0.00\n",
            "Forward/backward pass size (MB): 0.02\n",
            "Params size (MB): 1.79\n",
            "Estimated Total Size (MB): 1.81\n",
            "----------------------------------------------------------------\n"
          ]
        }
      ],
      "source": [
        "torchsummary.summary(OverfittingNeuralNetwork().to(device), (28*28,))"
      ]
    },
    {
      "cell_type": "code",
      "execution_count": 14,
      "metadata": {
        "colab": {
          "base_uri": "https://localhost:8080/"
        },
        "id": "cSAKDaDK4wR6",
        "outputId": "b7427a80-2463-4a42-8bec-11b12608c043"
      },
      "outputs": [
        {
          "output_type": "stream",
          "name": "stdout",
          "text": [
            "Epoch 1 of 40 took 8.201s\n",
            "\t  training loss: 0.528664\n",
            "\tvalidation loss: 0.421644\n",
            "\tvalidation accuracy: 0.845\n",
            "Epoch 2 of 40 took 8.033s\n",
            "\t  training loss: 0.364456\n",
            "\tvalidation loss: 0.388494\n",
            "\tvalidation accuracy: 0.860\n",
            "Epoch 3 of 40 took 8.092s\n",
            "\t  training loss: 0.327138\n",
            "\tvalidation loss: 0.361368\n",
            "\tvalidation accuracy: 0.870\n",
            "Epoch 4 of 40 took 8.046s\n",
            "\t  training loss: 0.303350\n",
            "\tvalidation loss: 0.341510\n",
            "\tvalidation accuracy: 0.875\n",
            "Epoch 5 of 40 took 8.978s\n",
            "\t  training loss: 0.284165\n",
            "\tvalidation loss: 0.324735\n",
            "\tvalidation accuracy: 0.883\n",
            "Epoch 6 of 40 took 8.064s\n",
            "\t  training loss: 0.269715\n",
            "\tvalidation loss: 0.328019\n",
            "\tvalidation accuracy: 0.881\n",
            "Epoch 7 of 40 took 8.148s\n",
            "\t  training loss: 0.256431\n",
            "\tvalidation loss: 0.346354\n",
            "\tvalidation accuracy: 0.879\n",
            "Epoch 8 of 40 took 8.092s\n",
            "\t  training loss: 0.246809\n",
            "\tvalidation loss: 0.347571\n",
            "\tvalidation accuracy: 0.872\n",
            "Epoch 9 of 40 took 8.096s\n",
            "\t  training loss: 0.237616\n",
            "\tvalidation loss: 0.327334\n",
            "\tvalidation accuracy: 0.885\n",
            "Epoch 10 of 40 took 8.140s\n",
            "\t  training loss: 0.229804\n",
            "\tvalidation loss: 0.325706\n",
            "\tvalidation accuracy: 0.884\n",
            "Epoch 11 of 40 took 8.071s\n",
            "\t  training loss: 0.222349\n",
            "\tvalidation loss: 0.336144\n",
            "\tvalidation accuracy: 0.878\n",
            "Epoch 12 of 40 took 8.102s\n",
            "\t  training loss: 0.216716\n",
            "\tvalidation loss: 0.346581\n",
            "\tvalidation accuracy: 0.880\n",
            "Epoch 13 of 40 took 8.149s\n",
            "\t  training loss: 0.209216\n",
            "\tvalidation loss: 0.350524\n",
            "\tvalidation accuracy: 0.880\n",
            "Epoch 14 of 40 took 8.122s\n",
            "\t  training loss: 0.200168\n",
            "\tvalidation loss: 0.347994\n",
            "\tvalidation accuracy: 0.879\n",
            "Epoch 15 of 40 took 8.188s\n",
            "\t  training loss: 0.196683\n",
            "\tvalidation loss: 0.333969\n",
            "\tvalidation accuracy: 0.885\n",
            "Epoch 16 of 40 took 8.241s\n",
            "\t  training loss: 0.191079\n",
            "\tvalidation loss: 0.332351\n",
            "\tvalidation accuracy: 0.886\n",
            "Epoch 17 of 40 took 8.125s\n",
            "\t  training loss: 0.185366\n",
            "\tvalidation loss: 0.324915\n",
            "\tvalidation accuracy: 0.895\n",
            "Epoch 18 of 40 took 8.131s\n",
            "\t  training loss: 0.183727\n",
            "\tvalidation loss: 0.322849\n",
            "\tvalidation accuracy: 0.892\n",
            "Epoch 19 of 40 took 8.068s\n",
            "\t  training loss: 0.174351\n",
            "\tvalidation loss: 0.332173\n",
            "\tvalidation accuracy: 0.891\n",
            "Epoch 20 of 40 took 8.105s\n",
            "\t  training loss: 0.168389\n",
            "\tvalidation loss: 0.333881\n",
            "\tvalidation accuracy: 0.896\n",
            "Epoch 21 of 40 took 8.143s\n",
            "\t  training loss: 0.166401\n",
            "\tvalidation loss: 0.322131\n",
            "\tvalidation accuracy: 0.893\n",
            "Epoch 22 of 40 took 8.245s\n",
            "\t  training loss: 0.163098\n",
            "\tvalidation loss: 0.336963\n",
            "\tvalidation accuracy: 0.895\n",
            "Epoch 23 of 40 took 8.372s\n",
            "\t  training loss: 0.158377\n",
            "\tvalidation loss: 0.354261\n",
            "\tvalidation accuracy: 0.893\n",
            "Epoch 24 of 40 took 8.730s\n",
            "\t  training loss: 0.158234\n",
            "\tvalidation loss: 0.356369\n",
            "\tvalidation accuracy: 0.890\n",
            "Epoch 25 of 40 took 8.197s\n",
            "\t  training loss: 0.157546\n",
            "\tvalidation loss: 0.342320\n",
            "\tvalidation accuracy: 0.893\n",
            "Epoch 26 of 40 took 8.133s\n",
            "\t  training loss: 0.150052\n",
            "\tvalidation loss: 0.353100\n",
            "\tvalidation accuracy: 0.892\n",
            "Epoch 27 of 40 took 8.167s\n",
            "\t  training loss: 0.147862\n",
            "\tvalidation loss: 0.342251\n",
            "\tvalidation accuracy: 0.897\n",
            "Epoch 28 of 40 took 8.210s\n",
            "\t  training loss: 0.146448\n",
            "\tvalidation loss: 0.340689\n",
            "\tvalidation accuracy: 0.894\n",
            "Epoch 29 of 40 took 8.220s\n",
            "\t  training loss: 0.142302\n",
            "\tvalidation loss: 0.337594\n",
            "\tvalidation accuracy: 0.898\n",
            "Epoch 30 of 40 took 8.088s\n",
            "\t  training loss: 0.137052\n",
            "\tvalidation loss: 0.354556\n",
            "\tvalidation accuracy: 0.893\n",
            "Epoch 31 of 40 took 8.057s\n",
            "\t  training loss: 0.137687\n",
            "\tvalidation loss: 0.376619\n",
            "\tvalidation accuracy: 0.888\n",
            "Epoch 32 of 40 took 8.008s\n",
            "\t  training loss: 0.134468\n",
            "\tvalidation loss: 0.377912\n",
            "\tvalidation accuracy: 0.890\n",
            "Epoch 33 of 40 took 8.071s\n",
            "\t  training loss: 0.131288\n",
            "\tvalidation loss: 0.358065\n",
            "\tvalidation accuracy: 0.890\n",
            "Epoch 34 of 40 took 8.103s\n",
            "\t  training loss: 0.133038\n",
            "\tvalidation loss: 0.379228\n",
            "\tvalidation accuracy: 0.894\n",
            "Epoch 35 of 40 took 8.121s\n",
            "\t  training loss: 0.129058\n",
            "\tvalidation loss: 0.377195\n",
            "\tvalidation accuracy: 0.893\n",
            "Epoch 36 of 40 took 8.094s\n",
            "\t  training loss: 0.123582\n",
            "\tvalidation loss: 0.374641\n",
            "\tvalidation accuracy: 0.892\n",
            "Epoch 37 of 40 took 8.132s\n",
            "\t  training loss: 0.123694\n",
            "\tvalidation loss: 0.374512\n",
            "\tvalidation accuracy: 0.892\n",
            "Epoch 38 of 40 took 8.087s\n",
            "\t  training loss: 0.118892\n",
            "\tvalidation loss: 0.372855\n",
            "\tvalidation accuracy: 0.897\n",
            "Epoch 39 of 40 took 8.090s\n",
            "\t  training loss: 0.118932\n",
            "\tvalidation loss: 0.379400\n",
            "\tvalidation accuracy: 0.893\n",
            "Epoch 40 of 40 took 8.132s\n",
            "\t  training loss: 0.118881\n",
            "\tvalidation loss: 0.392648\n",
            "\tvalidation accuracy: 0.893\n"
          ]
        }
      ],
      "source": [
        "model = OverfittingNeuralNetwork().to(device)\n",
        "opt = optim.Adam(model.parameters(), lr=3e-3)\n",
        "loss_func = nn.CrossEntropyLoss()\n",
        "\n",
        "# Your experiments, come here\n",
        "\n",
        "train_loss_overfit, val_loss_overfit, val_accuracy_overfit = train_model(model, train_loader, test_loader, loss_func, opt, device, 40)"
      ]
    },
    {
      "cell_type": "code",
      "source": [
        "plot_train_process(train_loss_overfit, val_loss_overfit, val_accuracy_overfit)"
      ],
      "metadata": {
        "colab": {
          "base_uri": "https://localhost:8080/",
          "height": 336
        },
        "id": "Rs91v4WqMVV0",
        "outputId": "bcf32d3b-6224-45f4-e3d9-bb4bf6f9c269"
      },
      "execution_count": 15,
      "outputs": [
        {
          "output_type": "display_data",
          "data": {
            "text/plain": [
              "<Figure size 1080x360 with 2 Axes>"
            ],
            "image/png": "[encoded data removed]"
          },
          "metadata": {
            "needs_background": "light"
          }
        }
      ]
    },
    {
      "cell_type": "markdown",
      "source": [
        "Ошибки на трейне и тесте сильно различаются"
      ],
      "metadata": {
        "id": "zr_fJ2HCS-aU"
      }
    },
    {
      "cell_type": "markdown",
      "metadata": {
        "id": "x831j7F64wR6"
      },
      "source": [
        "### Task 3: Fix it.\n",
        "Fix the overfitted network from the previous step (at least partially) by using regularization techniques (Dropout/Batchnorm/...) and demonstrate the results. "
      ]
    },
    {
      "cell_type": "code",
      "execution_count": 16,
      "metadata": {
        "id": "c-Nc1nK_4wR7"
      },
      "outputs": [],
      "source": [
        "class FixedNeuralNetwork(nn.Module):\n",
        "    def __init__(self, input_shape=28*28, num_classes=10, input_channels=1):\n",
        "        super(self.__class__, self).__init__()\n",
        "        self.model = nn.Sequential(\n",
        "            nn.Flatten(), # This layer converts image into a vector to use Linear layers afterwards\n",
        "            # Your network structure comes here\n",
        "            nn.Linear(input_shape, 512),\n",
        "            nn.Sigmoid(),\n",
        "            nn.Dropout(),\n",
        "            nn.BatchNorm1d(512),\n",
        "            nn.Linear(512, 128),\n",
        "            nn.Tanh(),\n",
        "            nn.Dropout(),\n",
        "            nn.BatchNorm1d(128),\n",
        "            nn.Linear(128, num_classes)\n",
        "        )\n",
        "        \n",
        "    def forward(self, inp):       \n",
        "        out = self.model(inp)\n",
        "        return out"
      ]
    },
    {
      "cell_type": "code",
      "execution_count": 17,
      "metadata": {
        "colab": {
          "base_uri": "https://localhost:8080/"
        },
        "id": "MXGg57dP4wR7",
        "outputId": "c255bb85-a450-4fb5-defd-80bab8baefb0"
      },
      "outputs": [
        {
          "output_type": "stream",
          "name": "stdout",
          "text": [
            "----------------------------------------------------------------\n",
            "        Layer (type)               Output Shape         Param #\n",
            "================================================================\n",
            "           Flatten-1                  [-1, 784]               0\n",
            "            Linear-2                  [-1, 512]         401,920\n",
            "           Sigmoid-3                  [-1, 512]               0\n",
            "           Dropout-4                  [-1, 512]               0\n",
            "       BatchNorm1d-5                  [-1, 512]           1,024\n",
            "            Linear-6                  [-1, 128]          65,664\n",
            "              Tanh-7                  [-1, 128]               0\n",
            "           Dropout-8                  [-1, 128]               0\n",
            "       BatchNorm1d-9                  [-1, 128]             256\n",
            "           Linear-10                   [-1, 10]           1,290\n",
            "================================================================\n",
            "Total params: 470,154\n",
            "Trainable params: 470,154\n",
            "Non-trainable params: 0\n",
            "----------------------------------------------------------------\n",
            "Input size (MB): 0.00\n",
            "Forward/backward pass size (MB): 0.03\n",
            "Params size (MB): 1.79\n",
            "Estimated Total Size (MB): 1.82\n",
            "----------------------------------------------------------------\n"
          ]
        }
      ],
      "source": [
        "torchsummary.summary(FixedNeuralNetwork().to(device), (28*28,))"
      ]
    },
    {
      "cell_type": "code",
      "execution_count": 18,
      "metadata": {
        "colab": {
          "base_uri": "https://localhost:8080/"
        },
        "id": "xRXzQxG44wR7",
        "outputId": "d7cb5a02-5688-445a-ae5c-f16f1f3cb03f"
      },
      "outputs": [
        {
          "output_type": "stream",
          "name": "stdout",
          "text": [
            "Epoch 1 of 10 took 8.715s\n",
            "\t  training loss: 0.582897\n",
            "\tvalidation loss: 0.411368\n",
            "\tvalidation accuracy: 0.851\n",
            "Epoch 2 of 10 took 8.455s\n",
            "\t  training loss: 0.457703\n",
            "\tvalidation loss: 0.396299\n",
            "\tvalidation accuracy: 0.854\n",
            "Epoch 3 of 10 took 8.649s\n",
            "\t  training loss: 0.427611\n",
            "\tvalidation loss: 0.369324\n",
            "\tvalidation accuracy: 0.868\n",
            "Epoch 4 of 10 took 9.448s\n",
            "\t  training loss: 0.416350\n",
            "\tvalidation loss: 0.358989\n",
            "\tvalidation accuracy: 0.870\n",
            "Epoch 5 of 10 took 8.573s\n",
            "\t  training loss: 0.403214\n",
            "\tvalidation loss: 0.369981\n",
            "\tvalidation accuracy: 0.870\n",
            "Epoch 6 of 10 took 8.469s\n",
            "\t  training loss: 0.392681\n",
            "\tvalidation loss: 0.354700\n",
            "\tvalidation accuracy: 0.875\n",
            "Epoch 7 of 10 took 8.573s\n",
            "\t  training loss: 0.387595\n",
            "\tvalidation loss: 0.368876\n",
            "\tvalidation accuracy: 0.869\n",
            "Epoch 8 of 10 took 8.562s\n",
            "\t  training loss: 0.381377\n",
            "\tvalidation loss: 0.350974\n",
            "\tvalidation accuracy: 0.876\n",
            "Epoch 9 of 10 took 8.462s\n",
            "\t  training loss: 0.371236\n",
            "\tvalidation loss: 0.353301\n",
            "\tvalidation accuracy: 0.877\n",
            "Epoch 10 of 10 took 8.464s\n",
            "\t  training loss: 0.371115\n",
            "\tvalidation loss: 0.346141\n",
            "\tvalidation accuracy: 0.878\n"
          ]
        }
      ],
      "source": [
        "model = FixedNeuralNetwork().to(device)\n",
        "opt = optim.Adam(model.parameters(), lr=3e-3)\n",
        "loss_func = nn.CrossEntropyLoss()\n",
        "\n",
        "# Your experiments, come here\n",
        "\n",
        "train_loss_fixed, val_loss_fixed, val_accuracy_fixed = train_model(model, train_loader, test_loader, loss_func, opt, device, 10)"
      ]
    },
    {
      "cell_type": "code",
      "source": [
        "plot_train_process(train_loss_fixed, val_loss_fixed, val_accuracy_fixed)"
      ],
      "metadata": {
        "colab": {
          "base_uri": "https://localhost:8080/",
          "height": 336
        },
        "id": "X7o9j4anTmPJ",
        "outputId": "036bd927-844d-4991-e80f-83b4d56ea5a5"
      },
      "execution_count": 19,
      "outputs": [
        {
          "output_type": "display_data",
          "data": {
            "text/plain": [
              "<Figure size 1080x360 with 2 Axes>"
            ],
            "image/png": "[encoded data removed]"
          },
          "metadata": {
            "needs_background": "light"
          }
        }
      ]
    },
    {
      "cell_type": "markdown",
      "source": [
        "Трейн и валидационная выборки намного ближе, значит смогли преодолеть переобучение путём добавление Dropout и BatchNormalization"
      ],
      "metadata": {
        "id": "tOYWZMzWUrrR"
      }
    },
    {
      "cell_type": "markdown",
      "metadata": {
        "id": "dMui_uLJ7G0d"
      },
      "source": [
        "### Conclusions:\n",
        "_Write down small report with your conclusions and your ideas._"
      ]
    },
    {
      "cell_type": "markdown",
      "source": [
        "1. Использование графических процессоров сильно ускоряет время обучения модели\n",
        "2. Модель можно легко переобучить используя либо малое количество слоёв, либо слишком больше\n",
        "3. Решить проблему переобучения можно с помощью таких техник как Dropout и/или BatchNormalization\n",
        "4. Большое количество эпох так же ведёт к переобучению, этот параметр нужно очень аккуратно подбирать, т.к. если модель много раз видела одни и те же картинки, то она научится различать только их\n",
        "5. Большой learning rate так же не будет способствовать обучению, т.к. мы можем перескочить через оптимум"
      ],
      "metadata": {
        "id": "oemMOfUtVHzt"
      }
    },
    {
      "cell_type": "code",
      "source": [],
      "metadata": {
        "id": "qiGIpm-tWShE"
      },
      "execution_count": 19,
      "outputs": []
    }
  ],
  "metadata": {
    "accelerator": "GPU",
    "colab": {
      "provenance": []
    },
    "kernelspec": {
      "display_name": "Python 3 (ipykernel)",
      "language": "python",
      "name": "python3"
    },
    "language_info": {
      "codemirror_mode": {
        "name": "ipython",
        "version": 3
      },
      "file_extension": ".py",
      "mimetype": "text/x-python",
      "name": "python",
      "nbconvert_exporter": "python",
      "pygments_lexer": "ipython3",
      "version": "3.7.13"
    }
  },
  "nbformat": 4,
  "nbformat_minor": 0
}