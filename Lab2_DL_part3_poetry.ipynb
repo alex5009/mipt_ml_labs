{
  "cells": [
    {
      "cell_type": "markdown",
      "metadata": {
        "id": "W0TpUIaZY_Wh"
      },
      "source": [
        "## Lab 2"
      ]
    },
    {
      "cell_type": "markdown",
      "metadata": {
        "id": "ICFJ7JZ-Y_Wr"
      },
      "source": [
        "### Part 3. Poetry generation\n",
        "\n",
        "Let's try to generate some poetry using RNNs. \n",
        "\n",
        "You have several choices here: \n",
        "\n",
        "* The Shakespeare sonnets, file `sonnets.txt` available in the notebook directory.\n",
        "\n",
        "* Роман в стихах \"Евгений Онегин\" Александра Сергеевича Пушкина. В предобработанном виде доступен по [ссылке](https://github.com/attatrol/data_sources/blob/master/onegin.txt).\n",
        "\n",
        "* Some other text source, if it will be approved by the course staff.\n",
        "\n",
        "Text generation can be designed in several steps:\n",
        "    \n",
        "1. Data loading.\n",
        "2. Dictionary generation.\n",
        "3. Data preprocessing.\n",
        "4. Model (neural network) training.\n",
        "5. Text generation (model evaluation).\n"
      ]
    },
    {
      "cell_type": "code",
      "execution_count": 1,
      "metadata": {
        "id": "Wuci850CY_Wt"
      },
      "outputs": [],
      "source": [
        "import string\n",
        "import os"
      ]
    },
    {
      "cell_type": "markdown",
      "metadata": {
        "id": "n61JPYI3Y_Wv"
      },
      "source": [
        "### Data loading: Shakespeare"
      ]
    },
    {
      "cell_type": "markdown",
      "metadata": {
        "id": "yFCIaeCkY_Ww"
      },
      "source": [
        "Shakespeare sonnets are awailable at this [link](http://www.gutenberg.org/ebooks/1041?msg=welcome_stranger). In addition, they are stored in the same directory as this notebook (`sonnetes.txt`). Simple preprocessing is already done for you in the next cell: all technical info is dropped."
      ]
    },
    {
      "cell_type": "code",
      "source": [
        "from google.colab import drive\n",
        "drive.mount('/content/drive')"
      ],
      "metadata": {
        "colab": {
          "base_uri": "https://localhost:8080/"
        },
        "id": "gFEoiB68ez9U",
        "outputId": "a9b9afb5-8ce8-41ed-9770-9161d9076073"
      },
      "execution_count": 2,
      "outputs": [
        {
          "output_type": "stream",
          "name": "stdout",
          "text": [
            "Mounted at /content/drive\n"
          ]
        }
      ]
    },
    {
      "cell_type": "code",
      "execution_count": 3,
      "metadata": {
        "collapsed": true,
        "id": "cAVkzeRUY_Wx",
        "colab": {
          "base_uri": "https://localhost:8080/"
        },
        "outputId": "8efc2f92-90d5-4398-9e60-cb44bcbe2423"
      },
      "outputs": [
        {
          "output_type": "stream",
          "name": "stdout",
          "text": [
            "--2022-12-25 14:14:35--  https://raw.githubusercontent.com/girafe-ai/ml-course/tree/22f_basic/homeworks/lab02_deep_learning/sonnets.txt\n",
            "Resolving raw.githubusercontent.com (raw.githubusercontent.com)... 185.199.108.133, 185.199.109.133, 185.199.110.133, ...\n",
            "Connecting to raw.githubusercontent.com (raw.githubusercontent.com)|185.199.108.133|:443... connected.\n",
            "HTTP request sent, awaiting response... 404 Not Found\n",
            "2022-12-25 14:14:35 ERROR 404: Not Found.\n",
            "\n"
          ]
        }
      ],
      "source": [
        "if not os.path.exists('sonnets.txt'):\n",
        "    !wget https://raw.githubusercontent.com/girafe-ai/ml-course/tree/22f_basic/homeworks/lab02_deep_learning/sonnets.txt\n",
        "\n",
        "path = '/content/drive/MyDrive/Colab_Notebooks/ranepa_mipt/ML/sonnets.txt'\n",
        "with open(path, 'r') as iofile:\n",
        "    text = iofile.readlines()\n",
        "    \n",
        "TEXT_START = 45\n",
        "TEXT_END = -368\n",
        "text = text[TEXT_START : TEXT_END]\n",
        "assert len(text) == 2616"
      ]
    },
    {
      "cell_type": "code",
      "source": [
        "max([len(i) for i in text])"
      ],
      "metadata": {
        "colab": {
          "base_uri": "https://localhost:8080/"
        },
        "id": "T2PIOv3zp6Hi",
        "outputId": "e0336e02-e95e-41f2-dbdf-abd99a8dffee"
      },
      "execution_count": 4,
      "outputs": [
        {
          "output_type": "execute_result",
          "data": {
            "text/plain": [
              "63"
            ]
          },
          "metadata": {},
          "execution_count": 4
        }
      ]
    },
    {
      "cell_type": "markdown",
      "metadata": {
        "id": "sO5-MGBvY_Wz"
      },
      "source": [
        "In opposite to the in-class practice, this time we want to predict complex text. Let's reduce the complexity of the task and lowercase all the symbols.\n",
        "\n",
        "Now variable `text` is a list of strings. Join all the strings into one and lowercase it."
      ]
    },
    {
      "cell_type": "code",
      "execution_count": 20,
      "metadata": {
        "colab": {
          "base_uri": "https://localhost:8080/"
        },
        "id": "czFu3pm_Y_W0",
        "outputId": "a790cecb-5746-45d9-9780-3eed72751bc4"
      },
      "outputs": [
        {
          "output_type": "stream",
          "name": "stdout",
          "text": [
            "OK!\n"
          ]
        }
      ],
      "source": [
        "# Join all the strings into one and lowercase it\n",
        "# Put result into variable text.\n",
        "\n",
        "# Your great code here\n",
        "text = ''.join(text).lower()\n",
        "assert len(text) == 100225, 'Are you sure you have concatenated all the strings?'\n",
        "assert not any([x in set(text) for x in string.ascii_uppercase]), 'Uppercase letters are present'\n",
        "print('OK!')"
      ]
    },
    {
      "cell_type": "markdown",
      "metadata": {
        "id": "7xZrFKIWY_W1"
      },
      "source": [
        "### Data loading: \"Евгений Онегин\"\n"
      ]
    },
    {
      "cell_type": "code",
      "execution_count": 5,
      "metadata": {
        "id": "b-fvDLprY_W2"
      },
      "outputs": [],
      "source": [
        "# !wget https://raw.githubusercontent.com/attatrol/data_sources/master/onegin.txt\n",
        "    \n",
        "# with open('onegin.txt', 'r') as iofile:\n",
        "#     text = iofile.readlines()\n",
        "    \n",
        "# text = [x.replace('\\t\\t', '') for x in text]"
      ]
    },
    {
      "cell_type": "markdown",
      "metadata": {
        "id": "2C4nlyx1Y_W4"
      },
      "source": [
        "In opposite to the in-class practice, this time we want to predict complex text. Let's reduce the complexity of the task and lowercase all the symbols.\n",
        "\n",
        "Now variable `text` is a list of strings. Join all the strings into one and lowercase it."
      ]
    },
    {
      "cell_type": "code",
      "execution_count": null,
      "metadata": {
        "id": "KBLCi31MY_W6"
      },
      "outputs": [],
      "source": [
        "# Join all the strings into one and lowercase it\n",
        "# Put result into variable text.\n",
        "\n",
        "# Your great code here\n"
      ]
    },
    {
      "cell_type": "markdown",
      "metadata": {
        "id": "fepA3UgxY_W7"
      },
      "source": [
        "Put all the characters, that you've seen in the text, into variable `tokens`."
      ]
    },
    {
      "cell_type": "code",
      "execution_count": 31,
      "metadata": {
        "id": "CjGNTzmmY_W7"
      },
      "outputs": [],
      "source": [
        "tokens = sorted(set(text))"
      ]
    },
    {
      "cell_type": "markdown",
      "metadata": {
        "id": "Syik-K-ZY_W8"
      },
      "source": [
        "Create dictionary `token_to_idx = {<char>: <index>}` and dictionary `idx_to_token = {<index>: <char>}`"
      ]
    },
    {
      "cell_type": "code",
      "execution_count": 32,
      "metadata": {
        "collapsed": true,
        "id": "DXTdCsS3Y_W9"
      },
      "outputs": [],
      "source": [
        "# dict <index>:<char>\n",
        "# Your great code here\n",
        "id_to_token = {idx: char for idx, char in enumerate(tokens)}\n",
        "# dict <char>:<index>\n",
        "# Your great code here\n",
        "token_to_id = {char: idx for idx, char in enumerate(tokens)}"
      ]
    },
    {
      "cell_type": "markdown",
      "metadata": {
        "id": "dSirnZxYY_W9"
      },
      "source": [
        "*Comment: in this task we have only 38 different tokens, so let's use one-hot encoding.*"
      ]
    },
    {
      "cell_type": "markdown",
      "metadata": {
        "id": "SGp4wWy5Y_W9"
      },
      "source": [
        "### Building the model"
      ]
    },
    {
      "cell_type": "markdown",
      "metadata": {
        "id": "nvxs13sFY_W-"
      },
      "source": [
        "Now we want to build and train recurrent neural net which would be able to something similar to Shakespeare's poetry.\n",
        "\n",
        "Let's use vanilla RNN, similar to the one created during the lesson."
      ]
    },
    {
      "cell_type": "code",
      "source": [
        "import random\n",
        "\n",
        "def text_to_matrix(text, max_lenght, batch_size):\n",
        "  # max_lenght += 1\n",
        "  batch_id = random.sample(range(len(text)-max_lenght), batch_size)\n",
        "  data = np.array(list(map(lambda x: [token_to_id[char] for char in text[x:x+max_lenght]], batch_id)))\n",
        "  return data"
      ],
      "metadata": {
        "id": "LHvXwbF7GteF"
      },
      "execution_count": 45,
      "outputs": []
    },
    {
      "cell_type": "code",
      "source": [
        "import torch, torch.nn as nn\n",
        "import torch.nn.functional as F\n",
        "import numpy as np\n",
        "import matplotlib.pyplot as plt\n",
        "from IPython.display import clear_output\n",
        "\n",
        "\n",
        "class VanillaRNNCell(nn.Module):\n",
        "    \"\"\"\n",
        "    Implement the scheme above as torch module\n",
        "    \"\"\"\n",
        "    def __init__(self, num_tokens=len(tokens), embedding_size=16, rnn_num_units=64):\n",
        "        super(self.__class__,self).__init__()\n",
        "        self.num_units = rnn_num_units\n",
        "        \n",
        "        self.embedding = nn.Embedding(num_tokens, embedding_size)\n",
        "        self.rnn_update = nn.Linear(embedding_size + rnn_num_units, rnn_num_units)\n",
        "        self.rnn_to_logits = nn.Linear(rnn_num_units, num_tokens)\n",
        "        \n",
        "    def forward(self, x, h_prev):\n",
        "        \"\"\"\n",
        "        This method computes h_next(x, h_prev) and log P(x_next | h_next)\n",
        "        We'll call it repeatedly to produce the whole sequence.\n",
        "        \n",
        "        :param x: batch of character ids, containing vector of int64\n",
        "        :param h_prev: previous rnn hidden states, containing matrix [batch, rnn_num_units] of float32\n",
        "        \"\"\"\n",
        "        # get vector embedding of x\n",
        "        x_emb = self.embedding(x)\n",
        "        \n",
        "        # compute next hidden state using self.rnn_update\n",
        "        # hint: use torch.cat(..., dim=...) for concatenation\n",
        "        x_and_h = torch.cat([x_emb, h_prev], dim=-1)\n",
        "        h_next = self.rnn_update(x_and_h)\n",
        "        \n",
        "        h_next = torch.tanh(h_next)\n",
        "        \n",
        "        assert h_next.size() == h_prev.size()\n",
        "        \n",
        "        #compute logits for next character probs\n",
        "        logits = self.rnn_to_logits(h_next)\n",
        "        \n",
        "        return h_next, logits\n",
        "    \n",
        "    def initial_state(self, batch_size):\n",
        "        \"\"\" return rnn state before it processes first input (aka h0) \"\"\"\n",
        "        return torch.zeros(batch_size, self.num_units, requires_grad=True)\n",
        "\n",
        "\n",
        "def rnn_loop(char_rnn, batch_ix):\n",
        "    \"\"\"\n",
        "    Computes log P(next_character) for all time-steps in names_ix\n",
        "    :param names_ix: an int32 matrix of shape [batch, time], output of to_matrix(names)\n",
        "    \"\"\"\n",
        "    batch_size, max_length = batch_ix.size()\n",
        "    hid_state = char_rnn.initial_state(batch_size)\n",
        "    logits = []\n",
        "\n",
        "    for x_t in batch_ix.transpose(0,1):\n",
        "        hid_state, logits_next = char_rnn(x_t, hid_state)  # <-- here we call your one-step code\n",
        "        logits.append(logits_next)\n",
        "        \n",
        "    return torch.stack(logits, dim=1)\n",
        "\n",
        "\n"
      ],
      "metadata": {
        "id": "qGTuIaHGZR0m"
      },
      "execution_count": 170,
      "outputs": []
    },
    {
      "cell_type": "code",
      "source": [
        "char_rnn = VanillaRNNCell()\n",
        "\n",
        "opt = torch.optim.Adam(char_rnn.parameters())\n",
        "loss_func = nn.CrossEntropyLoss()\n",
        "history = []\n",
        "batch_size = 32\n",
        "MAX_LENGTH = 200\n",
        "num_tokens = len(token_to_id)\n",
        "\n",
        "for i in range(1000):\n",
        "    batch_ix = text_to_matrix(text, MAX_LENGTH, batch_size)\n",
        "    # batch_ix = text_to_matrix(sample(names, 32), max_len=MAX_LENGTH)\n",
        "    batch_ix = torch.tensor(batch_ix, dtype=torch.int64)\n",
        "    \n",
        "    logp_seq = rnn_loop(char_rnn, batch_ix)\n",
        "    \n",
        "    # compute loss\n",
        "    #<YOUR CODE>\n",
        "    predictions_logp = logp_seq[:, :-1]\n",
        "    actual_next_tokens = batch_ix[:, 1:]\n",
        "\n",
        "    loss = loss_func(\n",
        "        predictions_logp.reshape((-1, num_tokens)),\n",
        "        actual_next_tokens.reshape(-1)\n",
        "    )\n",
        "    \n",
        "    loss.backward()\n",
        "    opt.step()\n",
        "    opt.zero_grad()\n",
        "    \n",
        "    history.append(loss.data.numpy())\n",
        "    if (i+1)%100==0:\n",
        "        clear_output(True)\n",
        "        plt.plot(history,label='loss')\n",
        "        plt.legend()\n",
        "        plt.show()"
      ],
      "metadata": {
        "colab": {
          "base_uri": "https://localhost:8080/",
          "height": 265
        },
        "id": "aPDjmGfwZFK3",
        "outputId": "c43e5ece-b23d-46ca-9d91-a8d3997b7207"
      },
      "execution_count": 47,
      "outputs": [
        {
          "output_type": "display_data",
          "data": {
            "text/plain": [
              "<Figure size 432x288 with 1 Axes>"
            ],
            "image/png": "[encoded data removed]"
          },
          "metadata": {
            "needs_background": "light"
          }
        }
      ]
    },
    {
      "cell_type": "markdown",
      "metadata": {
        "id": "DrfRWywQY_W_"
      },
      "source": [
        "Plot the loss function (axis X: number of epochs, axis Y: loss function)."
      ]
    },
    {
      "cell_type": "code",
      "source": [
        "def generate_sample(char_rnn, seed_phrase=' Hello', max_length=MAX_LENGTH, temperature=1.0):\n",
        "    '''\n",
        "    The function generates text given a phrase of length at least SEQ_LENGTH.\n",
        "    :param seed_phrase: prefix characters. The RNN is asked to continue the phrase\n",
        "    :param max_length: maximum output length, including seed_phrase\n",
        "    :param temperature: coefficient for sampling.  higher temperature produces more chaotic outputs,\n",
        "                        smaller temperature converges to the single most likely output\n",
        "    '''\n",
        "    \n",
        "    x_sequence = [token_to_id[token] for token in seed_phrase]\n",
        "    x_sequence = torch.tensor([x_sequence], dtype=torch.int64)\n",
        "    hid_state = char_rnn.initial_state(batch_size=1)\n",
        "    \n",
        "    #feed the seed phrase, if any\n",
        "    for i in range(len(seed_phrase) - 1):\n",
        "        hid_state, _ = char_rnn(x_sequence[:, i], hid_state)\n",
        "    \n",
        "    #start generating\n",
        "    for _ in range(max_length - len(seed_phrase)):\n",
        "        hid_state, logits_next = char_rnn(x_sequence[:, -1], hid_state)\n",
        "        p_next = F.softmax(logits_next / temperature, dim=-1).data.numpy()[0]\n",
        "        \n",
        "        # sample next token and push it back into x_sequence\n",
        "        next_ix = np.random.choice(num_tokens, p=p_next)\n",
        "        next_ix = torch.tensor([[next_ix]], dtype=torch.int64)\n",
        "        x_sequence = torch.cat([x_sequence, next_ix], dim=1)\n",
        "        # if next_ix == token_to_id['>']:\n",
        "        #   break\n",
        "    return ''.join([tokens[ix] for ix in x_sequence.data.numpy()[0]])"
      ],
      "metadata": {
        "id": "V-rmmKZwB0XR"
      },
      "execution_count": 78,
      "outputs": []
    },
    {
      "cell_type": "code",
      "source": [
        "print(generate_sample(char_rnn, seed_phrase = ' a', temperature = 0.6, max_length=200))"
      ],
      "metadata": {
        "colab": {
          "base_uri": "https://localhost:8080/"
        },
        "id": "8WXvEKkp2OH-",
        "outputId": "2bc3121a-6026-4b7b-de04-be7c9f07a8e3"
      },
      "execution_count": 79,
      "outputs": [
        {
          "output_type": "stream",
          "name": "stdout",
          "text": [
            " am this i beash the i with on bearth gemest wime ulles disseed the prich shaor'd thou grine to the live sorer love thine thou grest the conce hus here be mise thou thou the shear growed you thet me a\n"
          ]
        }
      ]
    },
    {
      "cell_type": "code",
      "execution_count": 80,
      "metadata": {
        "id": "IbTuciBqY_XA"
      },
      "outputs": [],
      "source": [
        "# An example of generated text.\n",
        "# print(generate_text(length=500, temperature=0.2))"
      ]
    },
    {
      "cell_type": "markdown",
      "metadata": {
        "id": "OY9dgK_oY_XA"
      },
      "source": [
        "### More poetic model\n",
        "\n",
        "Let's use LSTM instead of vanilla RNN and compare the results."
      ]
    },
    {
      "cell_type": "markdown",
      "metadata": {
        "id": "Nwb34GBRY_XB"
      },
      "source": [
        "Plot the loss function of the number of epochs. Does the final loss become better?"
      ]
    },
    {
      "cell_type": "code",
      "source": [
        "num_tokens = len(token_to_id)\n",
        "\n",
        "class LSTMLoop(nn.Module):\n",
        "    def __init__(self, num_tokens=num_tokens, emb_size=MAX_LENGTH, rnn_num_units=64, drop_prob=0.3, n_layers=1):\n",
        "        super(self.__class__, self).__init__()\n",
        "        self.num_units = rnn_num_units\n",
        "        self.emb = nn.Embedding(num_tokens, emb_size)\n",
        "        self.lstm = nn.LSTM(emb_size, rnn_num_units, n_layers, dropout=drop_prob, batch_first=True)\n",
        "        self.dropout = nn.Dropout(drop_prob)\n",
        "        self.lstm_to_logits = nn.Linear(rnn_num_units, num_tokens)\n",
        "        \n",
        "    def forward(self, x, h_prev, c_0):\n",
        "        x_emb = self.emb(x)\n",
        "        out, h_next = self.lstm(x_emb, (h_prev,c_0))\n",
        "        out = self.dropout(out)\n",
        "        logits = self.lstm_to_logits(out)\n",
        "        \n",
        "        return h_next[0], h_next[1], logits\n",
        "    \n",
        "    def initial_state(self, batch_size):\n",
        "        \"\"\" return rnn state before it processes first input (aka h0) \"\"\"\n",
        "        return torch.zeros(1, batch_size, self.num_units, requires_grad=True)"
      ],
      "metadata": {
        "id": "FgOegn1Inzc_"
      },
      "execution_count": 230,
      "outputs": []
    },
    {
      "cell_type": "code",
      "source": [
        "def lstm_loop(char_rnn, batch_ix):\n",
        "    \"\"\"\n",
        "    Computes log P(next_character) for all time-steps in names_ix\n",
        "    :param names_ix: an int32 matrix of shape [batch, time], output of to_matrix(names)\n",
        "    \"\"\"\n",
        "    batch_size, max_length = batch_ix.size()\n",
        "    hid_state = char_rnn.initial_state(batch_size)\n",
        "    logits = []\n",
        "\n",
        "    for x_t in batch_ix.transpose(0,1):\n",
        "        hid_state, logits_next = char_rnn(x_t, hid_state, hid_state)  # <-- here we call your one-step code\n",
        "        logits.append(logits_next)\n",
        "        \n",
        "    return torch.stack(logits, dim=1)\n"
      ],
      "metadata": {
        "id": "XhIprtp427QV"
      },
      "execution_count": 231,
      "outputs": []
    },
    {
      "cell_type": "code",
      "source": [
        "char_lstm = LSTMLoop()\n",
        "\n",
        "opt = torch.optim.Adam(char_lstm.parameters())\n",
        "loss_func = nn.CrossEntropyLoss()\n",
        "history = []\n",
        "batch_size = 32\n",
        "MAX_LENGTH = 200\n",
        "\n",
        "for i in range(1000):\n",
        "    batch_ix = text_to_matrix(text, MAX_LENGTH, batch_size)\n",
        "    batch_ix = torch.tensor(batch_ix, dtype=torch.int64)\n",
        "    h_0 = char_lstm.initial_state(batch_size = 32)\n",
        "    hn, cn, logp_seq = char_lstm(batch_ix, h_0, h_0)\n",
        "    \n",
        "    predictions_logp = logp_seq[:, :-1]    \n",
        "    actual_next_tokens = batch_ix[:, 1:]\n",
        "\n",
        "    loss = loss_func(predictions_logp.contiguous().view(-1, num_tokens), \n",
        "                  actual_next_tokens.contiguous().view(-1))\n",
        "    loss.backward()\n",
        "    opt.step()\n",
        "    opt.zero_grad()\n",
        "    \n",
        "    \n",
        "    history.append(loss.data.numpy())\n",
        "    if (i+1)%100==0:\n",
        "        clear_output(True)\n",
        "        plt.plot(history,label='loss')\n",
        "        plt.legend()\n",
        "        plt.show()"
      ],
      "metadata": {
        "colab": {
          "base_uri": "https://localhost:8080/",
          "height": 265
        },
        "id": "FRVEJRb89mxJ",
        "outputId": "be6cb54a-17a0-4b61-e44e-a3195d12b712"
      },
      "execution_count": 234,
      "outputs": [
        {
          "output_type": "display_data",
          "data": {
            "text/plain": [
              "<Figure size 432x288 with 1 Axes>"
            ],
            "image/png": "[encoded data removed]"
          },
          "metadata": {
            "needs_background": "light"
          }
        }
      ]
    },
    {
      "cell_type": "markdown",
      "metadata": {
        "id": "DFnwlS8xY_XB"
      },
      "source": [
        "Generate text using the trained net with different `temperature` parameter: `[0.1, 0.2, 0.5, 1.0, 2.0]`.\n",
        "\n",
        "Evaluate the results visually, try to interpret them."
      ]
    },
    {
      "cell_type": "code",
      "execution_count": 237,
      "metadata": {
        "collapsed": true,
        "id": "2tT8lMyTY_XB"
      },
      "outputs": [],
      "source": [
        "# Text generation with different temperature values here\n",
        "def generate_sample_lstm(model, seed_phrase=[' Hello'], max_length=MAX_LENGTH, temperature=1.0):\n",
        "    '''    \n",
        "    The function generates text given a phrase of length at least SEQ_LENGTH.\n",
        "    :param seed_phrase: prefix characters. The RNN is asked to continue the phrase\n",
        "    :param max_length: maximum output length, including seed_phrase\n",
        "    :param temperature: coefficient for sampling.  higher temperature produces more chaotic outputs, \n",
        "        smaller temperature converges to the single most likely output.\n",
        "    '''\n",
        "    \n",
        "    x_sequence = [token_to_id[token] for token in seed_phrase]\n",
        "    x_sequence = torch.tensor([[x_sequence]], dtype=torch.int64)\n",
        "    hid_state = model.initial_state(batch_size=1)\n",
        "\n",
        "    \n",
        "    #feed the seed phrase, if any\n",
        "    for i in range(len(seed_phrase) - 1):\n",
        "        hid_state, cn, out = model(x_sequence[:, :,i], hid_state, hid_state)\n",
        "        \n",
        "    #start generating\n",
        "    for _ in range(max_length - len(seed_phrase)):\n",
        "#         print(x_sequence.shape, x_sequence, hid_state.shape)\n",
        "        hid_state, cn, out = model(x_sequence[:, :,-1], hid_state, hid_state)\n",
        "        \n",
        "        # Be really careful here with the model output\n",
        "        p_next = F.softmax(out / temperature, dim=-1).data.numpy()[0][0]\n",
        "        \n",
        "        # sample next token and push it back into x_sequence\n",
        "        next_ix = np.random.choice(num_tokens, p=p_next)\n",
        "        next_ix = torch.tensor([[[next_ix]]], dtype=torch.int64)\n",
        "\n",
        "        x_sequence = torch.cat([x_sequence, next_ix], dim=2)\n",
        "    x_sequence = torch.flatten(x_sequence)\n",
        "    \n",
        "        \n",
        "    return ''.join([id_to_token[ix] for ix in x_sequence.data.numpy()])"
      ]
    },
    {
      "cell_type": "code",
      "source": [
        "MAX_LENGTH = 200\n",
        "for temp in [0.1, 0.2, 0.5, 1.0, 2.0]:\n",
        "  print(temp)\n",
        "  print(generate_sample_lstm(char_lstm, seed_phrase=[' '], temperature=temp))"
      ],
      "metadata": {
        "colab": {
          "base_uri": "https://localhost:8080/"
        },
        "id": "pP5RW_mRBDdV",
        "outputId": "90007fcc-19c3-4804-9f4c-080c84db9a40"
      },
      "execution_count": 239,
      "outputs": [
        {
          "output_type": "stream",
          "name": "stdout",
          "text": [
            "0.1\n",
            " the and the a the with the the of the with the the the live the the me the the the love sund the with me the the the the with the the res the the surks with ness ight the the the ald the me the the t\n",
            "0.2\n",
            " the with the keve the sunge the the more and the age with the the of my be the the with the the a ming the more the with more the will i the see the but the whe the surn the the self the the the love\n",
            "0.5\n",
            " whe ast is your chast the nother eyes the her the a bothe bess both she the the the wear set her deing the love shick is xxi\n",
            "\n",
            "  thes the face make bornguches sping the thouf in the strevend i mit,\n",
            "  \n",
            "1.0\n",
            " afil seck,\n",
            "  trat'd, s rtanb'd's stranuse'd\n",
            "  touiserther,\n",
            "  sw qure the thath,\n",
            " is wous mout,\n",
            "  otpo y morich'd\n",
            "  uthin(g ared whance and qure?\n",
            "  of benesto ey navap,\n",
            "  and faak tmeay,\n",
            "  thof hearch\n",
            "2.0\n",
            " thathst,\n",
            "  exxoula!. \n",
            " i,\n",
            "; f)cpo!\n",
            " (jo\n",
            "-i-tuw:\n",
            "   lalgy,\n",
            " s.\n",
            "  akne,;(ns-dr my, fosiib\n",
            "  nufbn ew;od,\n",
            "n n.ilong\n",
            "  swe cfifi?x\n",
            "\n",
            "  noesit tinsagud.xi,\n",
            "ibxll;\n",
            " \n",
            ", ey' resce.r (thak\n",
            " hy;\n",
            " kl;\n",
            "  unspivus\n"
          ]
        }
      ]
    },
    {
      "cell_type": "markdown",
      "metadata": {
        "id": "7OZj8um_Y_XC"
      },
      "source": [
        "### Saving and loading models"
      ]
    },
    {
      "cell_type": "markdown",
      "metadata": {
        "id": "l9noBeSqY_XC"
      },
      "source": [
        "Save the model to the disk, then load it and generate text. Examples are available [here](https://pytorch.org/tutorials/beginner/saving_loading_models.html])."
      ]
    },
    {
      "cell_type": "code",
      "execution_count": 244,
      "metadata": {
        "collapsed": true,
        "id": "rc0PfAptY_XC",
        "colab": {
          "base_uri": "https://localhost:8080/"
        },
        "outputId": "bbad5c2d-f51a-40fe-83f7-2421194bd2c8"
      },
      "outputs": [
        {
          "output_type": "stream",
          "name": "stdout",
          "text": [
            " the with the the the the love the ave the mare the me the me hathest the will has mine the of the surn the me the the the are the the the the the the the whe brest the with the the i hath the me the \n"
          ]
        }
      ],
      "source": [
        "# Saving and loading code here\n",
        "PATH = '/content/drive/MyDrive/Colab_Notebooks/ranepa_mipt/ML/lstm.pt'\n",
        "torch.save(char_lstm.state_dict(), PATH)\n",
        "\n",
        "loaded_model = torch.load(PATH)\n",
        "print(generate_sample_lstm(loaded_model, seed_phrase=[' '], temperature=0.1))"
      ]
    },
    {
      "cell_type": "markdown",
      "metadata": {
        "id": "oA7b9mSzY_XD"
      },
      "source": [
        "### References\n",
        "1. <a href='http://karpathy.github.io/2015/05/21/rnn-effectiveness/'> Andrew Karpathy blog post about RNN. </a> \n",
        "There are several examples of genration: Shakespeare texts, Latex formulas, Linux Sourse Code and children names.\n",
        "2. <a href='https://github.com/karpathy/char-rnn'> Repo with char-rnn code </a>\n",
        "3. Cool repo with PyTorch examples: [link](https://github.com/spro/practical-pytorch`)"
      ]
    }
  ],
  "metadata": {
    "anaconda-cloud": {},
    "kernelspec": {
      "display_name": "Python 3 (ipykernel)",
      "language": "python",
      "name": "python3"
    },
    "language_info": {
      "codemirror_mode": {
        "name": "ipython",
        "version": 3
      },
      "file_extension": ".py",
      "mimetype": "text/x-python",
      "name": "python",
      "nbconvert_exporter": "python",
      "pygments_lexer": "ipython3",
      "version": "3.7.13"
    },
    "colab": {
      "provenance": []
    }
  },
  "nbformat": 4,
  "nbformat_minor": 0
}